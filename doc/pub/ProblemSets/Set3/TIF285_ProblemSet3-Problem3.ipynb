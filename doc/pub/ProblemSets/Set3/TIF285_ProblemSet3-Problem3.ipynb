{
 "cells": [
  {
   "cell_type": "markdown",
   "metadata": {},
   "source": [
    "# Problem Set 3\n",
    "## Learning from data [TIF285], Chalmers, Fall 2019\n",
    "\n",
    "Last revised: 09-Oct-2019 by Christian Forssén [christian.forssen@chalmers.se]"
   ]
  },
  {
   "cell_type": "markdown",
   "metadata": {},
   "source": [
    "## Instructions"
   ]
  },
  {
   "cell_type": "markdown",
   "metadata": {},
   "source": [
    "- See deadline on the course web page\n",
    "- This problem set is performed individually (but collaboration is encouraged) and contains a number of basic and extra problems; you can choose which and how many to work on.\n",
    "- See examination rules on the course web page.\n",
    "- Hand-in is performed through the following **two** actions:\n",
    "  - Upload of your solution in the form of a jupyter notebook, or python code, via Canvas.\n",
    "  - Answer the corresponding questions on OpenTA.\n",
    "  \n",
    "  Note that the hand-in is not complete, and will not be graded, if any of those actions is not performed."
   ]
  },
  {
   "cell_type": "markdown",
   "metadata": {},
   "source": [
    "Fill your personal details\n",
    "- Name: **Lastname, Firstname**\n",
    "- Personnummer: **YYMMDD-XXXX**\n",
    "  <br/>\n",
    "  (civic registration number)"
   ]
  },
  {
   "cell_type": "markdown",
   "metadata": {},
   "source": [
    "## Problems\n",
    "The 10 basic points of this problem set are distributed over four problems:\n",
    "1. Assigning probabilities for a hundred-sided die (2 basic points)\n",
    "2. Chi-squared hypothesis testing (2 basic points)\n",
    "3. Gaussian process regression (3 basic points)\n",
    "4. Neural network classification (3 basic points)\n",
    "\n",
    "Each of them will be presented in a separate jupyter notebook."
   ]
  },
  {
   "cell_type": "markdown",
   "metadata": {},
   "source": [
    "## Problem 3: Gaussian process regression\n",
    "### (3 basic points)"
   ]
  },
  {
   "cell_type": "markdown",
   "metadata": {},
   "source": [
    "In the following we will perform Gaussian Process regression of the [distance modulus](https://en.wikipedia.org/wiki/Distance_modulus) ($\\mu$) vs. [redshift](https://en.wikipedia.org/wiki/Redshift) ($z$) relation for a simulated set of 100 supernovas.\n",
    "\n",
    "The data, \n",
    "$(z, \\mu, \\Delta \\mu)$,\n",
    "is generated from an underlying true distribution $p(z) \\propto (z/z_0)^2 \\exp[(z/z_0)^{1.5}]$ \n",
    "with $z_0 = 0.3$. An array with $(z_\\mathrm{true}, \\mu_\\mathrm{true})$ is also available for comparison."
   ]
  },
  {
   "cell_type": "markdown",
   "metadata": {},
   "source": [
    "Credit: The data and a part of the problem formulation is obtained from the [AstroML](\"http://www.astroml.org/\") python module distributed under the 3-clause BSD license. For more information, see http://astroML.github.com."
   ]
  },
  {
   "cell_type": "code",
   "execution_count": 1,
   "metadata": {},
   "outputs": [],
   "source": [
    "import GPy"
   ]
  },
  {
   "cell_type": "markdown",
   "metadata": {},
   "source": [
    "### Task 1\n",
    "Load the experimental data and the true function data and plot $\\mu = \\mu(z)$. "
   ]
  },
  {
   "cell_type": "code",
   "execution_count": 3,
   "metadata": {},
   "outputs": [
    {
     "name": "stdout",
     "output_type": "stream",
     "text": [
      "The experimental data is of shape: (100, 1)\n"
     ]
    }
   ],
   "source": [
    "# Load experimental data sample\n",
    "z_sample, mu_sample, dmu = np.loadtxt('cosmology_sample.dat',unpack=True)\n",
    "\n",
    "# data must be two-dimensional for GPy\n",
    "x = z_sample.reshape((-1,1))\n",
    "y = mu_sample.reshape((-1,1))\n",
    "print('The experimental data is of shape:', y.shape)"
   ]
  },
  {
   "cell_type": "code",
   "execution_count": 5,
   "metadata": {},
   "outputs": [
    {
     "name": "stdout",
     "output_type": "stream",
     "text": [
      "The true function data is of shape: (1000,)\n"
     ]
    }
   ],
   "source": [
    "# Load true function\n",
    "z, mu_true = np.loadtxt('cosmology_true.dat',unpack=True)\n",
    "\n",
    "print('The true function data is of shape:', mu_true.shape)"
   ]
  },
  {
   "cell_type": "markdown",
   "metadata": {},
   "source": [
    "### Task 2 \n",
    "Use the GPy python module to create a GP model with an RBF kernel. The GP model will contain a Gaussian noise term by default. \n",
    "* Print the hyperparameters of the kernel before doing optimization.\n",
    "* Use GPy to optimize the model hyperparameters to the available data.\n",
    "* Print the optimized GP model hyperparameters. Check in particular the Gaussian noise variance. Does it make sense given the uncertainites that were present in the experimental data?\n",
    "* What is the log likelihood of the data with this GP model? (*Hint*: Use the GPy `model.log_likelihood()` function , where `model` is a GPy regression model)\n",
    "* Plot the GP regression model together with the data (the GPy plot command will by default show the mean prediction and the 95% credibility region)."
   ]
  },
  {
   "cell_type": "markdown",
   "metadata": {},
   "source": [
    "### Task 3\n",
    "Repeat the GP model optimization, but initialize the hyperparameters with \n",
    "* RBF lengthscale = 1.2\n",
    "* RBF variance = 1000\n",
    "\n",
    "From this initial guess, use GPy to optimize the model hyperparameters to the available data.\n",
    "* Print the optimized GP model hyperparameters. \n",
    "* What is the log likelihood of the data with this GP model? \n",
    "* Plot the GP regression model together with the data.\n",
    "* What are the main differences of the fit in Task 2 and the one in Task 3?"
   ]
  },
  {
   "cell_type": "markdown",
   "metadata": {},
   "source": [
    "### Task 4\n",
    "* Create an array `Xp = numpy.linspace(0.0,2.0,50)[:,None]` to be used for predictions.\n",
    "* Extract the mean vector and the covariance matrix from your GPy model object, `model`, using the command `mu, C = model.predict(Xp,full_cov=True)`\n",
    "* Draw 20 samples from the multivariate Gaussian defined by `mu, C`.\n",
    "* Extract the mean vector and the standard deviation vector of the 20 samples.\n",
    "* Plot the sampled curves in a figure together with the mean and the $1\\sigma$ and $2\\sigma$ bands. (*Hint*: Use `alpha=0.3` when plotting the sampled curves in order to make them somewhat transparent).\n",
    "* How does the result from this finite number of samples compare to the model plot that was produced in Task 3?"
   ]
  },
  {
   "cell_type": "code",
   "execution_count": null,
   "metadata": {},
   "outputs": [],
   "source": []
  }
 ],
 "metadata": {
  "kernelspec": {
   "display_name": "Python 3",
   "language": "python",
   "name": "python3"
  },
  "language_info": {
   "codemirror_mode": {
    "name": "ipython",
    "version": 3
   },
   "file_extension": ".py",
   "mimetype": "text/x-python",
   "name": "python",
   "nbconvert_exporter": "python",
   "pygments_lexer": "ipython3",
   "version": "3.7.3"
  },
  "nav_menu": {},
  "toc": {
   "navigate_menu": true,
   "number_sections": true,
   "sideBar": true,
   "threshold": 6,
   "toc_cell": false,
   "toc_section_display": "block",
   "toc_window_display": false
  }
 },
 "nbformat": 4,
 "nbformat_minor": 1
}
