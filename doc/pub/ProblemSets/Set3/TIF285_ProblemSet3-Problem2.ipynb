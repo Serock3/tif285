{
 "cells": [
  {
   "cell_type": "markdown",
   "metadata": {},
   "source": [
    "# Problem Set 3\n",
    "## Learning from data [TIF285], Chalmers, Fall 2019\n",
    "\n",
    "Last revised: 09-Oct-2019 by Christian Forssén [christian.forssen@chalmers.se]"
   ]
  },
  {
   "cell_type": "markdown",
   "metadata": {},
   "source": [
    "## Instructions"
   ]
  },
  {
   "cell_type": "markdown",
   "metadata": {},
   "source": [
    "- See deadline on the course web page\n",
    "- This problem set is performed individually (but collaboration is encouraged) and contains a number of basic and extra problems; you can choose which and how many to work on.\n",
    "- See examination rules on the course web page.\n",
    "- Hand-in is performed through the following **two** actions:\n",
    "  - Upload of your solution in the form of a jupyter notebook, or python code, via Canvas.\n",
    "  - Answer the corresponding questions on OpenTA.\n",
    "  \n",
    "  Note that the hand-in is not complete, and will not be graded, if any of those actions is not performed."
   ]
  },
  {
   "cell_type": "markdown",
   "metadata": {},
   "source": [
    "Fill your personal details\n",
    "- Name: **Lastname, Firstname**\n",
    "- Personnummer: **YYMMDD-XXXX**\n",
    "  <br/>\n",
    "  (civic registration number)"
   ]
  },
  {
   "cell_type": "markdown",
   "metadata": {},
   "source": [
    "## Problems\n",
    "The 10 basic points of this problem set are distributed over four problems:\n",
    "1. Assigning probabilities for a hundred-sided die (2 basic points)\n",
    "2. Chi-squared hypothesis testing (2 basic points)\n",
    "3. Gaussian process regression (3 basic points)\n",
    "4. Neural network classification (3 basic points)\n",
    "\n",
    "Each of them will be presented in a separate jupyter notebook."
   ]
  },
  {
   "cell_type": "markdown",
   "metadata": {},
   "source": [
    "## Problem 2: Chi-squared hypothesis testing\n",
    "### (2 basic points)"
   ]
  },
  {
   "cell_type": "markdown",
   "metadata": {},
   "source": [
    "Assume that you are analyzing a time series of data from an experiment that is searching for an annual modulation on top of a constant background (e.g. a modulation that would be proportional to the flux of dark matter particles which is expected to have an annual modulation). \n",
    "\n",
    "The time series of data consists of $N = 20$ measurements that extends over a period of 5 years. The measurements are presented in some re-scaled, dimensionless units. From calibration measurements it is known that errors are statistically distributed with a standard variance $\\sigma = 5.0$."
   ]
  },
  {
   "cell_type": "markdown",
   "metadata": {},
   "source": [
    "### Tasks\n",
    "* Create data according to the cell below using three different scenarios: the amplitude of the annual modulation signal (as given by the `amp_annual` variable) being \n",
    "  * 0.0\n",
    "  * 5.0\n",
    "  * 10.0\n",
    "* Consider as a null hypothesis that the signal is *constant*, with an unknown amplitude.\n",
    "* Compute, for each case, the chi-squared statistics: $\\chi^2 = \\sum_{i=1}^N \\frac{( y_i - \\bar{y} )^2}{\\sigma^2}$, where the average value $\\bar{y}$ is estimated from the sample $\\{ y_i \\}_{i=1}^{N}$.\n",
    "* Make a plot of the expected $\\chi^2$ distribution for the relevant number of degrees of freedom and compare with the statistic obtained for the actual data in each case.\n",
    "* What is the *P-value* or *significance* of the data (for each case) from a frequentist point of view?\n",
    "* What is your *confidence in rejecting the null hypothesis* for each particular case.\n",
    "\n",
    "Finally, you are encouraged to play around and generate data for the same three scenarios but with another random seed. E.g. try with the seed `2019` instead of `1` used in the `np.random.RandomState(1)` initialization in the cell below. What is the outcome of the analysis of these new data sets?"
   ]
  },
  {
   "cell_type": "code",
   "execution_count": 95,
   "metadata": {},
   "outputs": [],
   "source": [
    "import numpy as np\n",
    "import matplotlib.pyplot as plt\n",
    "import scipy.stats as stats\n",
    "%matplotlib inline"
   ]
  },
  {
   "cell_type": "code",
   "execution_count": 108,
   "metadata": {},
   "outputs": [],
   "source": [
    "# Generate N=20 data points for a period of Y=5 years\n",
    "N = 20\n",
    "Y = 5\n",
    "T = 365.25\n",
    "rand = np.random.RandomState(1)\n",
    "t = T * Y * rand.rand(N)\n",
    "\n",
    "# The constant background\n",
    "background = 100.\n",
    "\n",
    "# The std deviation for the normally distributed errors\n",
    "dy = 5.\n",
    "\n",
    "# amplitude of annual modulation signal\n",
    "amp_annual = 10.\n",
    "\n",
    "y = background + amp_annual * np.sin(2*np.pi*t / T)\n",
    "y += dy * rand.randn(N)"
   ]
  },
  {
   "cell_type": "code",
   "execution_count": null,
   "metadata": {},
   "outputs": [],
   "source": []
  }
 ],
 "metadata": {
  "kernelspec": {
   "display_name": "Python 3",
   "language": "python",
   "name": "python3"
  },
  "language_info": {
   "codemirror_mode": {
    "name": "ipython",
    "version": 3
   },
   "file_extension": ".py",
   "mimetype": "text/x-python",
   "name": "python",
   "nbconvert_exporter": "python",
   "pygments_lexer": "ipython3",
   "version": "3.7.3"
  },
  "nav_menu": {},
  "toc": {
   "navigate_menu": true,
   "number_sections": true,
   "sideBar": true,
   "threshold": 6,
   "toc_cell": false,
   "toc_section_display": "block",
   "toc_window_display": false
  }
 },
 "nbformat": 4,
 "nbformat_minor": 1
}
