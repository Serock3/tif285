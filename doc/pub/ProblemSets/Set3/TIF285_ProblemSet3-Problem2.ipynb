{
 "cells": [
  {
   "cell_type": "markdown",
   "metadata": {},
   "source": [
    "# Problem Set 3\n",
    "## Learning from data [TIF285], Chalmers, Fall 2019\n",
    "\n",
    "Last revised: 09-Oct-2019 by Christian Forssén [christian.forssen@chalmers.se]"
   ]
  },
  {
   "cell_type": "markdown",
   "metadata": {},
   "source": [
    "## Instructions"
   ]
  },
  {
   "cell_type": "markdown",
   "metadata": {},
   "source": [
    "- See deadline on the course web page\n",
    "- This problem set is performed individually (but collaboration is encouraged) and contains a number of basic and extra problems; you can choose which and how many to work on.\n",
    "- See examination rules on the course web page.\n",
    "- Hand-in is performed through the following **two** actions:\n",
    "  - Upload of your solution in the form of a jupyter notebook, or python code, via Canvas.\n",
    "  - Answer the corresponding questions on OpenTA.\n",
    "  \n",
    "  Note that the hand-in is not complete, and will not be graded, if any of those actions is not performed."
   ]
  },
  {
   "cell_type": "markdown",
   "metadata": {},
   "source": [
    "Fill your personal details\n",
    "- Name: **Holmin, Sebastian**\n",
    "- Personnummer: **970602-3679**\n",
    "  <br/>\n",
    "  (civic registration number)"
   ]
  },
  {
   "cell_type": "markdown",
   "metadata": {},
   "source": [
    "## Problems\n",
    "The 10 basic points of this problem set are distributed over four problems:\n",
    "1. Assigning probabilities for a hundred-sided die (2 basic points)\n",
    "2. Chi-squared hypothesis testing (2 basic points)\n",
    "3. Gaussian process regression (3 basic points)\n",
    "4. Neural network classification (3 basic points)\n",
    "\n",
    "Each of them will be presented in a separate jupyter notebook."
   ]
  },
  {
   "cell_type": "markdown",
   "metadata": {},
   "source": [
    "## Problem 2: Chi-squared hypothesis testing\n",
    "### (2 basic points)"
   ]
  },
  {
   "cell_type": "markdown",
   "metadata": {},
   "source": [
    "Assume that you are analyzing a time series of data from an experiment that is searching for an annual modulation on top of a constant background (e.g. a modulation that would be proportional to the flux of dark matter particles which is expected to have an annual modulation). \n",
    "\n",
    "The time series of data consists of $N = 20$ measurements that extends over a period of 5 years. The measurements are presented in some re-scaled, dimensionless units. From calibration measurements it is known that errors are statistically distributed with a standard variance $\\sigma = 5.0$."
   ]
  },
  {
   "cell_type": "markdown",
   "metadata": {},
   "source": [
    "### Tasks\n",
    "* Create data according to the cell below using three different scenarios: the amplitude of the annual modulation signal (as given by the `amp_annual` variable) being \n",
    "  * 0.0\n",
    "  * 5.0\n",
    "  * 10.0\n",
    "* Consider as a null hypothesis that the signal is *constant*, with an unknown amplitude.\n",
    "* Compute, for each case, the chi-squared statistics: $\\chi^2 = \\sum_{i=1}^N \\frac{( y_i - \\bar{y} )^2}{\\sigma^2}$, where the average value $\\bar{y}$ is estimated from the sample $\\{ y_i \\}_{i=1}^{N}$.\n",
    "* Make a plot of the expected $\\chi^2$ distribution for the relevant number of degrees of freedom and compare with the statistic obtained for the actual data in each case.\n",
    "* What is the *P-value* or *significance* of the data (for each case) from a frequentist point of view?\n",
    "* What is your *confidence in rejecting the null hypothesis* for each particular case.\n",
    "\n",
    "Finally, you are encouraged to play around and generate data for the same three scenarios but with another random seed. E.g. try with the seed `2019` instead of `1` used in the `np.random.RandomState(1)` initialization in the cell below. What is the outcome of the analysis of these new data sets?"
   ]
  },
  {
   "cell_type": "code",
   "execution_count": 2,
   "metadata": {},
   "outputs": [],
   "source": [
    "import numpy as np\n",
    "import matplotlib.pyplot as plt\n",
    "import scipy.stats as stats\n",
    "%matplotlib inline\n",
    "from scipy.stats import chi2"
   ]
  },
  {
   "cell_type": "code",
   "execution_count": 3,
   "metadata": {},
   "outputs": [
    {
     "name": "stdout",
     "output_type": "stream",
     "text": [
      "Chi2 =  11.339724751277556\n",
      "P =  0.9118812077666452\n",
      "Confidence of rejecting null hypothesis =  0.08811879223335484\n",
      "Chi2 =  26.002799086070983\n",
      "P =  0.13011103942869284\n",
      "Confidence of rejecting null hypothesis =  0.8698889605713072\n",
      "Chi2 =  50.72233318954821\n",
      "P =  0.00010252674947330842\n",
      "Confidence of rejecting null hypothesis =  0.9998974732505267\n"
     ]
    },
    {
     "data": {
      "image/png": "[encoded data removed]",
      "text/plain": [
       "<Figure size 432x288 with 1 Axes>"
      ]
     },
     "metadata": {
      "needs_background": "light"
     },
     "output_type": "display_data"
    }
   ],
   "source": [
    "# Generate N=20 data points for a period of Y=5 years\n",
    "N = 20\n",
    "Y = 5\n",
    "T = 365.25\n",
    "rand = np.random.RandomState(1)\n",
    "t = T * Y * rand.rand(N)\n",
    "\n",
    "# The constant background\n",
    "background = 100.\n",
    "\n",
    "# The std deviation for the normally distributed errors\n",
    "dy = 5.\n",
    "\n",
    "fig, ax = plt.subplots(1, 1)\n",
    "df = 19 # We lose one degree of freedom from normalization\n",
    "x = np.linspace(chi2.ppf(0.001, df), #find appropriate x interval \n",
    "                chi2.ppf(0.9999, df), 100)\n",
    "ax.plot(x, chi2.pdf(x, df), alpha=0.6, label='chi2 pdf')\n",
    "\n",
    "# amplitude of annual modulation signal\n",
    "\n",
    "for amp_annual in [0,5,10]:\n",
    "    y = background + amp_annual * np.sin(2*np.pi*t / T)\n",
    "    y += dy * rand.randn(N)\n",
    "    ybar = np.mean(y)\n",
    "\n",
    "    chi2meas = sum((y-ybar)**2/dy**2)\n",
    "    print(\"Chi2 = \",chi2meas)\n",
    "    \n",
    "\n",
    "    ax.plot(chi2meas,chi2.pdf(chi2meas,df),'o')\n",
    "\n",
    "    P = 1- chi2.cdf(chi2meas,df)\n",
    "    print(\"P = \",P)\n",
    "    print(\"Confidence of rejecting null hypothesis = \", 1-P)"
   ]
  }
 ],
 "metadata": {
  "kernelspec": {
   "display_name": "Python 3",
   "language": "python",
   "name": "python3"
  },
  "language_info": {
   "codemirror_mode": {
    "name": "ipython",
    "version": 3
   },
   "file_extension": ".py",
   "mimetype": "text/x-python",
   "name": "python",
   "nbconvert_exporter": "python",
   "pygments_lexer": "ipython3",
   "version": "3.7.4"
  },
  "nav_menu": {},
  "toc": {
   "navigate_menu": true,
   "number_sections": true,
   "sideBar": true,
   "threshold": 6,
   "toc_cell": false,
   "toc_section_display": "block",
   "toc_window_display": false
  }
 },
 "nbformat": 4,
 "nbformat_minor": 4
}
