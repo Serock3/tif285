{
 "cells": [
  {
   "cell_type": "markdown",
   "metadata": {},
   "source": [
    "# Problem Set 3\n",
    "## Learning from data [TIF285], Chalmers, Fall 2019\n",
    "\n",
    "Last revised: 09-Oct-2019 by Christian Forssén [christian.forssen@chalmers.se]"
   ]
  },
  {
   "cell_type": "markdown",
   "metadata": {},
   "source": [
    "## Instructions"
   ]
  },
  {
   "cell_type": "markdown",
   "metadata": {},
   "source": [
    "- See deadline on the course web page\n",
    "- This problem set is performed individually (but collaboration is encouraged) and contains a number of basic and extra problems; you can choose which and how many to work on.\n",
    "- See examination rules on the course web page.\n",
    "- Hand-in is performed through the following **two** actions:\n",
    "  - Upload of your solution in the form of a jupyter notebook, or python code, via Canvas.\n",
    "  - Answer the corresponding questions on OpenTA.\n",
    "  \n",
    "  Note that the hand-in is not complete, and will not be graded, if any of those actions is not performed."
   ]
  },
  {
   "cell_type": "markdown",
   "metadata": {},
   "source": [
    "Fill your personal details\n",
    "- Name: **Lastname, Firstname**\n",
    "- Personnummer: **YYMMDD-XXXX**\n",
    "  <br/>\n",
    "  (civic registration number)"
   ]
  },
  {
   "cell_type": "markdown",
   "metadata": {},
   "source": [
    "## Problems\n",
    "The 10 basic points of this problem set are distributed over four problems:\n",
    "1. Assigning probabilities for a hundred-sided die (2 basic points)\n",
    "2. Chi-squared hypothesis testing (2 basic points)\n",
    "3. Gaussian process regression (3 basic points)\n",
    "4. Neural network classification (3 basic points)\n",
    "\n",
    "Each of them will be presented in a separate jupyter notebook."
   ]
  },
  {
   "cell_type": "markdown",
   "metadata": {},
   "source": [
    "# Problem 1: Assigning probabilities for a hundred-sided die\n",
    "### (2 basic points)"
   ]
  },
  {
   "cell_type": "markdown",
   "metadata": {},
   "source": [
    "Consider a hundred-sided die (labeled with 1, 2, 3, ..., 100) for which you know that the average result is 10.\n",
    "\n",
    "Use the principle of maximum entropy to assign the probabilities $\\{ p_i \\}_{i=1}^{100}$ for the outcomes of a die roll.\n",
    "\n",
    "*Hint: Use the method of Lagrange multipliers. See, e.g., Gregory section 8.6-7.*\n",
    "\n",
    "*There are two constraints from the known information: the normalization of the probabilities $\\sum_i p_i = 1$ and the average result $\\sum_i i p_i = 10$. In lack of other information, it is best to set the Lebesque measure $m_i = \\mathrm{constant}$.*"
   ]
  },
  {
   "cell_type": "markdown",
   "metadata": {},
   "source": [
    "### Task\n",
    "* Assign the probabilities and make a bar plot.\n",
    "* The distribution looks like an exponential $e^{-\\lambda i}$. What is its decay constant $\\lambda$?"
   ]
  },
  {
   "cell_type": "code",
   "execution_count": null,
   "metadata": {},
   "outputs": [],
   "source": []
  }
 ],
 "metadata": {
  "kernelspec": {
   "display_name": "Python 3",
   "language": "python",
   "name": "python3"
  },
  "language_info": {
   "codemirror_mode": {
    "name": "ipython",
    "version": 3
   },
   "file_extension": ".py",
   "mimetype": "text/x-python",
   "name": "python",
   "nbconvert_exporter": "python",
   "pygments_lexer": "ipython3",
   "version": "3.7.3"
  },
  "nav_menu": {},
  "toc": {
   "navigate_menu": true,
   "number_sections": true,
   "sideBar": true,
   "threshold": 6,
   "toc_cell": false,
   "toc_section_display": "block",
   "toc_window_display": false
  }
 },
 "nbformat": 4,
 "nbformat_minor": 1
}
