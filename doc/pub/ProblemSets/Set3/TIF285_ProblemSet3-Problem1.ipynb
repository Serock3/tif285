{
 "cells": [
  {
   "cell_type": "markdown",
   "metadata": {},
   "source": [
    "# Problem Set 3\n",
    "## Learning from data [TIF285], Chalmers, Fall 2019\n",
    "\n",
    "Last revised: 09-Oct-2019 by Christian Forssén [christian.forssen@chalmers.se]"
   ]
  },
  {
   "cell_type": "markdown",
   "metadata": {},
   "source": [
    "## Instructions"
   ]
  },
  {
   "cell_type": "markdown",
   "metadata": {},
   "source": [
    "- See deadline on the course web page\n",
    "- This problem set is performed individually (but collaboration is encouraged) and contains a number of basic and extra problems; you can choose which and how many to work on.\n",
    "- See examination rules on the course web page.\n",
    "- Hand-in is performed through the following **two** actions:\n",
    "  - Upload of your solution in the form of a jupyter notebook, or python code, via Canvas.\n",
    "  - Answer the corresponding questions on OpenTA.\n",
    "  \n",
    "  Note that the hand-in is not complete, and will not be graded, if any of those actions is not performed."
   ]
  },
  {
   "cell_type": "markdown",
   "metadata": {},
   "source": [
    "Fill your personal details\n",
    "- Name: **Holmin, Sebastian**\n",
    "- Personnummer: **970602-3679**\n",
    "  <br/>\n",
    "  (civic registration number)"
   ]
  },
  {
   "cell_type": "markdown",
   "metadata": {},
   "source": [
    "## Problems\n",
    "The 10 basic points of this problem set are distributed over four problems:\n",
    "1. Assigning probabilities for a hundred-sided die (2 basic points)\n",
    "2. Chi-squared hypothesis testing (2 basic points)\n",
    "3. Gaussian process regression (3 basic points)\n",
    "4. Neural network classification (3 basic points)\n",
    "\n",
    "Each of them will be presented in a separate jupyter notebook."
   ]
  },
  {
   "cell_type": "markdown",
   "metadata": {},
   "source": [
    "# Problem 1: Assigning probabilities for a hundred-sided die\n",
    "### (2 basic points)"
   ]
  },
  {
   "cell_type": "markdown",
   "metadata": {},
   "source": [
    "Consider a hundred-sided die (labeled with 1, 2, 3, ..., 100) for which you know that the average result is 10.\n",
    "\n",
    "Use the principle of maximum entropy to assign the probabilities $\\{ p_i \\}_{i=1}^{100}$ for the outcomes of a die roll.\n",
    "\n",
    "*Hint: Use the method of Lagrange multipliers. See, e.g., Gregory section 8.6-7.*\n",
    "\n",
    "*There are two constraints from the known information: the normalization of the probabilities $\\sum_i p_i = 1$ and the average result $\\sum_i i p_i = 10$. In lack of other information, it is best to set the Lebesque measure $m_i = \\mathrm{constant}$.*"
   ]
  },
  {
   "cell_type": "markdown",
   "metadata": {},
   "source": [
    "### Task\n",
    "* Assign the probabilities and make a bar plot.\n",
    "* The distribution looks like an exponential $e^{-\\lambda i}$. What is its decay constant $\\lambda$?"
   ]
  },
  {
   "cell_type": "markdown",
   "metadata": {},
   "source": [
    "The problem will be maximizing the function\n",
    "$$\n",
    "Q = -\\sum_i p_i \\log \\left( \\frac{p_i}{m_i} \\right) + \\lambda_0 \\left( 1 - \\sum_i p_i \\right) + \\lambda_1 \\left( \\mu - \\sum_i x_i p_i \\right)\n",
    "= -\\sum_{i=1}^{100} p_i \\log(p_i) \n",
    "+ \\lambda_0 \\left( 1 - \\sum_{i=1}^{100} p_i \\right)\n",
    "+ \\lambda_1 \\left( 10 - \\sum_{i=1}^{100} i p_i \\right),\n",
    "$$\n",
    "\n",
    "$\\partial Q / \\partial p_j = 0$ gives\n",
    "\n",
    "$$\n",
    "p_i = \\exp \\left[ -(1+\\lambda_0) \\right] \\exp \\left[ -\\lambda_1 i \\right].\n",
    "$$\n",
    "\n",
    "We can then sum these to gain\n",
    "\n",
    "$$\n",
    "\\sum_{i=1}^{100}p_i = 1 = \\exp \\left[ -(1+\\lambda_0) \\right] \\sum_{i=1}^{100}\\exp \\left[ -\\lambda_1 i \\right]\n",
    "$$\n",
    "\n",
    "and\n",
    "\n",
    "$$\n",
    "\\sum_{i=1}^{100}i p_j = 10 = \\exp \\left[ -(1+\\lambda_0) \\right] \\sum_{i=1}^{100}i\\exp \\left[ -\\lambda_1 i \\right].\n",
    "$$\n",
    "\n",
    "The first of these gives\n",
    "\n",
    "$$\n",
    "\\exp \\left[ -(1+\\lambda_0) \\right] = \\frac{1}{\\sum_{i=1}^{100}\\exp \\left[ -\\lambda_1 i \\right]},\n",
    "$$\n",
    "\n",
    "which plugged into the other gives\n",
    "\n",
    "$$\n",
    "0 = \\sum_{i=1}^{100}i \\exp \\left[ -\\lambda_1 i \\right] - 10 \\sum_{i=1}^{100}\\exp \\left[ -\\lambda_1 i \\right].\n",
    "$$\n",
    "\n",
    "This we can now solve numerically for $\\lambda_1$ and get $p_i$ from\n",
    "\n",
    "$$\n",
    "p_i = \\frac{\\exp \\left[ -\\lambda_1 i \\right]}{\\sum_{j=1}^{100}\\exp \\left[ -\\lambda_1 j \\right]} .\n",
    "$$"
   ]
  },
  {
   "cell_type": "code",
   "execution_count": 2,
   "metadata": {},
   "outputs": [
    {
     "name": "stdout",
     "output_type": "stream",
     "text": [
      "lambda=  0.10533092306052393\n"
     ]
    },
    {
     "data": {
      "image/png": "[encoded data removed]",
      "text/plain": [
       "<Figure size 864x288 with 2 Axes>"
      ]
     },
     "metadata": {
      "needs_background": "light"
     },
     "output_type": "display_data"
    }
   ],
   "source": [
    "from scipy.optimize import fsolve\n",
    "import matplotlib.pyplot as plt\n",
    "fig,axs = plt.subplots(1,2, figsize=(12,4))\n",
    "\n",
    "def f(x):\n",
    "    return sum([(i-10)*np.exp(-x*i) for i in range(1,101)])\n",
    "\n",
    "axs[0].plot(np.linspace(0.08,0.5),f(np.linspace(0.08,0.5)))\n",
    "axs[0].set_title('Function to find root of')\n",
    "lmbda = fsolve(f,0)\n",
    "\n",
    "def p(i): #function as given above\n",
    "    return np.exp(-lmbda*i)/sum([np.exp(-lmbda*j) for j in range(1,101)])[0]\n",
    "\n",
    "axs[1].bar(range(1,101),p(range(1,101)))\n",
    "axs[1].set_title('$p_i$')\n",
    "\n",
    "print('lambda= ',lmbda[0]) #Print the optimized lambda"
   ]
  },
  {
   "cell_type": "code",
   "execution_count": 5,
   "metadata": {},
   "outputs": [
    {
     "data": {
      "text/plain": [
       "array([0.00057334])"
      ]
     },
     "execution_count": 5,
     "metadata": {},
     "output_type": "execute_result"
    }
   ],
   "source": [
    "p(50)"
   ]
  },
  {
   "cell_type": "code",
   "execution_count": null,
   "metadata": {},
   "outputs": [],
   "source": []
  }
 ],
 "metadata": {
  "kernelspec": {
   "display_name": "Python 3",
   "language": "python",
   "name": "python3"
  },
  "language_info": {
   "codemirror_mode": {
    "name": "ipython",
    "version": 3
   },
   "file_extension": ".py",
   "mimetype": "text/x-python",
   "name": "python",
   "nbconvert_exporter": "python",
   "pygments_lexer": "ipython3",
   "version": "3.7.4"
  },
  "nav_menu": {},
  "toc": {
   "navigate_menu": true,
   "number_sections": true,
   "sideBar": true,
   "threshold": 6,
   "toc_cell": false,
   "toc_section_display": "block",
   "toc_window_display": false
  }
 },
 "nbformat": 4,
 "nbformat_minor": 4
}
