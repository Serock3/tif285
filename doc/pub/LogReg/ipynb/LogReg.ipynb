{
 "cells": [
  {
   "cell_type": "markdown",
   "metadata": {},
   "source": [
    "<!-- dom:TITLE: Learning from data: Logistic Regression -->\n",
    "# Learning from data: Logistic Regression\n",
    "<!-- dom:AUTHOR: Christian Forssén at Department of Physics, Chalmers University of Technology, Sweden -->\n",
    "<!-- Author: -->  \n",
    "**Christian Forssén**, Department of Physics, Chalmers University of Technology, Sweden  \n",
    "<!-- dom:AUTHOR: Morten Hjorth-Jensen at Department of Physics, University of Oslo & Department of Physics and Astronomy and National Superconducting Cyclotron Laboratory, Michigan State University -->\n",
    "<!-- Author: --> **Morten Hjorth-Jensen**, Department of Physics, University of Oslo and Department of Physics and Astronomy and National Superconducting Cyclotron Laboratory, Michigan State University\n",
    "\n",
    "Date: **Oct 14, 2019**\n",
    "\n",
    "Copyright 2018-2019, Christian Forssén. Released under CC Attribution-NonCommercial 4.0 license\n",
    "\n",
    "\n",
    "\n",
    "<!-- !split  -->\n",
    "# Logistic Regression\n",
    "\n",
    "In linear regression our main interest was centered on learning the\n",
    "coefficients of a functional fit (say a polynomial) in order to be\n",
    "able to predict the response of a continuous variable on some unseen\n",
    "data. The fit to the continuous variable $y_i$ is based on some\n",
    "independent variables $\\boldsymbol{x}_i$. Linear regression resulted in\n",
    "analytical expressions for standard ordinary Least Squares or Ridge\n",
    "regression (in terms of matrices to invert) for several quantities,\n",
    "ranging from the variance and thereby the confidence intervals of the\n",
    "parameters $\\boldsymbol{w}$ to the mean squared error. If we can invert\n",
    "the product of the design matrices, linear regression gives then a\n",
    "simple recipe for fitting our data.\n",
    "\n",
    "\n",
    "Classification problems, however, are concerned with outcomes taking\n",
    "the form of discrete variables (i.e. categories). We may for example,\n",
    "on the basis of DNA sequencing for a number of patients, like to find\n",
    "out which mutations are important for a certain disease; or based on\n",
    "scans of various patients' brains, figure out if there is a tumor or\n",
    "not; or given a specific physical system, we'd like to identify its\n",
    "state, say whether it is an ordered or disordered system (typical\n",
    "situation in solid state physics); or classify the status of a\n",
    "patient, whether she/he has a stroke or not and many other similar\n",
    "situations.\n",
    "\n",
    "The most common situation we encounter when we apply logistic\n",
    "regression is that of two possible outcomes, normally denoted as a\n",
    "binary outcome, true or false, positive or negative, success or\n",
    "failure etc.\n",
    "\n",
    "## Optimization and Deep learning\n",
    "\n",
    "Logistic regression will also serve as our stepping stone towards\n",
    "neural network algorithms and supervised deep learning. For logistic\n",
    "learning, the minimization of the cost function leads to a non-linear\n",
    "equation in the parameters $\\boldsymbol{w}$. The optimization of the\n",
    "problem calls therefore for minimization algorithms. This forms the\n",
    "bottle neck of all machine learning algorithms, namely how to find\n",
    "reliable minima of a multi-variable function. This leads us to the\n",
    "family of gradient descent methods. The latter are the working horses\n",
    "of basically all modern machine learning algorithms.\n",
    "\n",
    "We note also that many of the topics discussed here on logistic \n",
    "regression are also commonly used in modern supervised Deep Learning\n",
    "models, as we will see later.\n",
    "\n",
    "\n",
    "<!-- !split  -->\n",
    "## Basics and notation\n",
    "\n",
    "We consider the case where the dependent variables (also called the\n",
    "responses, targets, or outcomes) are discrete and only take values\n",
    "from $k=0,\\dots,K-1$ (i.e. $K$ classes).\n",
    "\n",
    "The goal is to predict the\n",
    "output classes from the design matrix $\\boldsymbol{X}\\in\\mathbb{R}^{n\\times p}$\n",
    "made of $n$ samples, each of which carries $p$ features or predictors. The\n",
    "primary goal is to identify the classes to which new unseen samples\n",
    "belong.\n",
    "\n",
    "**Notice.**\n",
    "\n",
    "We will use the following notation:\n",
    "* $\\boldsymbol{x}$: independent (input) variables, typically a vector of length $p$. A matrix of $n$ instances of input vectors is denoted $\\boldsymbol{X}$, and is also known as the *design matrix*.\n",
    "\n",
    "* $t$: dependent, response variable, also known as the target. For binary classification the target $t^{(i)} \\in \\{0,1\\}$. For $K$ different classes we would have $t^{(i)} \\in \\{1, 2, \\ldots, K\\}$. A vector of $n$ targets from $n$ instances of data is denoted $\\boldsymbol{t}$.\n",
    "\n",
    "* $\\mathcal{D}$: is the data, where $\\mathcal{D}^{(i)} = \\{ (\\boldsymbol{x}^{(i)}, t^{(i)} ) \\}$.\n",
    "\n",
    "* $\\boldsymbol{y}$: is the output of our classifier that will be used to quantify probabilities $p_{t=C}$ that the target belongs to class $C$.\n",
    "\n",
    "* $\\boldsymbol{w}$: will be the parameters (weights) of our classification model.\n",
    "\n",
    "The subscript notation $y_i$ will here be used in parallel with the superscript one, $y^{(i)}$, for which the author apologizes.\n",
    "\n",
    "\n",
    "\n",
    "Let us specialize to the case of two classes only, with outputs\n",
    "$t_i=0$ and $t_i=1$. That is"
   ]
  },
  {
   "cell_type": "markdown",
   "metadata": {},
   "source": [
    "$$\n",
    "t_i = \\begin{bmatrix} 0 \\\\  1 \\end{bmatrix}\n",
    "= \\begin{bmatrix} \\mathrm{no}\\\\  \\mathrm{yes} \\end{bmatrix}.\n",
    "$$"
   ]
  },
  {
   "cell_type": "markdown",
   "metadata": {},
   "source": [
    "## Linear classifier\n",
    "\n",
    "Before moving to the logistic model, let us try to use our linear\n",
    "regression model to classify these two outcomes. We could for example\n",
    "fit a linear model to the default case if $y_i > 0.5$ and the no\n",
    "default case $y_i \\leq 0.5$.\n",
    "\n",
    "We would then have our \n",
    "weighted linear combination, namely"
   ]
  },
  {
   "cell_type": "markdown",
   "metadata": {},
   "source": [
    "<!-- Equation labels as ordinary links -->\n",
    "<div id=\"_auto1\"></div>\n",
    "\n",
    "$$\n",
    "\\begin{equation}\n",
    "\\boldsymbol{y} = \\boldsymbol{X}^T\\boldsymbol{w} +  \\boldsymbol{\\epsilon},\n",
    "\\label{_auto1} \\tag{1}\n",
    "\\end{equation}\n",
    "$$"
   ]
  },
  {
   "cell_type": "markdown",
   "metadata": {},
   "source": [
    "where $\\boldsymbol{y}$ is a vector representing the possible outcomes, $\\boldsymbol{X}$ is our\n",
    "$n\\times p$ design matrix and $\\boldsymbol{w}$ represents our estimators/predictors.\n",
    "\n",
    "## Some selected properties\n",
    "\n",
    "The main problem with our function is that it takes values on the\n",
    "entire real axis. In the case of logistic regression, however, the\n",
    "labels $t_i$ are discrete variables. \n",
    "\n",
    "One simple way to get a discrete output is to have sign\n",
    "functions that map the output of a linear regressor to values $y_i \\in \\{ 0, 1 \\}$,\n",
    "$f(\\tilde{y}_i)=sign(\\tilde{y}_i)=1$ if $\\tilde{y}_i\\ge 0$ and 0 if otherwise. \n",
    "We will encounter this model in our first demonstration of neural networks. Historically it is called the \"perceptron\" model in the machine learning\n",
    "literature. This model is extremely simple. However, in many cases it is more\n",
    "favorable to use a \"soft\" classifier that outputs\n",
    "the probability of a given category. This leads us to the logistic function.\n",
    "\n",
    "\n",
    "## The logistic function\n",
    "\n",
    "The perceptron is an example of a \"hard classification\" model. We\n",
    "will encounter this model when we discuss neural networks as\n",
    "well. Each datapoint is deterministically assigned to a category (i.e\n",
    "$y_i=0$ or $y_i=1$). In many cases, it is favorable to have a \"soft\"\n",
    "classifier that outputs the probability of a given category rather\n",
    "than a single value. For example, given $\\boldsymbol{x}_i$, the classifier\n",
    "outputs the probability of being in a category $k$.  Logistic regression\n",
    "is the most common example of a so-called soft classifier. In logistic\n",
    "regression, the probability that a data point $\\boldsymbol{x}_i$\n",
    "belongs to a category $t_i=\\{0,1\\}$ is given by the so-called logit function (or Sigmoid) which is meant to represent the likelihood for a given event,"
   ]
  },
  {
   "cell_type": "markdown",
   "metadata": {},
   "source": [
    "$$\n",
    "y(\\boldsymbol{x}; \\boldsymbol{w}) = y(a) = \\frac{1}{1+e^{-a}} = \\frac{e^a}{1+e^a},\n",
    "$$"
   ]
  },
  {
   "cell_type": "markdown",
   "metadata": {},
   "source": [
    "where the so called *activation* $a = a(\\boldsymbol{x}; \\boldsymbol{w})$. \n",
    "\n",
    "* Most frequently one uses $a = a(\\boldsymbol{x}, \\boldsymbol{w}) \\equiv \\boldsymbol{x} \\cdot \\boldsymbol{w}$.\n",
    "\n",
    "* Note that $1-y(a)= y(-a)$.\n",
    "\n",
    "* The sigmoid function can be motivated in several different ways. E.g. in information theory this function represents the probability of a signal $s=1$ rather than $s=0$ when transmission occurs over a noisy channel.\n",
    "\n",
    "## Examples of likelihood functions used in logistic regression and neural networks\n",
    "\n",
    "<!-- dom:FIGURE:[fig/logistic_functions.png, width=600 frac=0.8] The sigmoid, step,and (normalized) tanh functions; three common classifier functions used in logistic regression and neural networks. <div id=\"fig:logistic\"></div> -->\n",
    "<!-- begin figure -->\n",
    "<div id=\"fig:logistic\"></div>\n",
    "\n",
    "<p>The sigmoid, step,and (normalized) tanh functions; three common classifier functions used in logistic regression and neural networks.</p>\n",
    "<img src=\"fig/logistic_functions.png\" width=600>\n",
    "\n",
    "<!-- end figure -->\n",
    "\n",
    "\n",
    "## A binary classifier with two parameters\n",
    "\n",
    "We assume now that we have two classes with $t_i$ either $0$ or $1$. Furthermore we assume also that we have only two parameters $w_0, w_1$ and the predictors $\\boldsymbol{x}_i = \\{ 1, x_i \\}$ defining the Sigmoid function. We can produce probabilities from the classifier output $y_i$"
   ]
  },
  {
   "cell_type": "markdown",
   "metadata": {},
   "source": [
    "$$\n",
    "\\begin{align*}\n",
    "p(t_i=1|x_i,\\boldsymbol{w}) &= \\frac{y(a_i)}{1 + y(a_i)} = \\frac{\\exp{(w_0+w_1x_i)}}{1+\\exp{(w_0+w_1x_i)}},\\nonumber\\\\\n",
    "p(t_i=0|x_i,\\boldsymbol{w}) &= 1 - p(t_i=1|x_i,\\boldsymbol{w}) = \\frac{1}{1 + y(a_i)} ,\n",
    "\\end{align*}\n",
    "$$"
   ]
  },
  {
   "cell_type": "markdown",
   "metadata": {},
   "source": [
    "where $\\boldsymbol{w} = \\{ w_0, w_1\\}$ are the weights we wish to extract from training data. \n",
    "\n",
    "<!-- !split  -->\n",
    "### Maximum likelihood\n",
    "\n",
    "In order to define the total likelihood for all possible outcomes from a  \n",
    "dataset $\\mathcal{D}=\\{(x_i, t_i,)\\}$, with the binary labels\n",
    "$t_i\\in\\{0,1\\}$ and where the data points are drawn independently, we use the binary version of the [Maximum Likelihood Estimation](https://en.wikipedia.org/wiki/Maximum_likelihood_estimation) (MLE) principle. \n",
    "We express the \n",
    "likelihood in terms of the product of the individual probabilities of a specific outcome $t_i$, that is"
   ]
  },
  {
   "cell_type": "markdown",
   "metadata": {},
   "source": [
    "$$\n",
    "\\begin{align*}\n",
    "\\mathcal{L} = P(\\mathcal{D}|\\boldsymbol{w})& = \\prod_{i=1}^n \\left[p(t_i=1|x_i,\\boldsymbol{w})\\right]^{t_i}\\left[1-p(t_i=1|x_i,\\boldsymbol{w}))\\right]^{1-t_i}\\nonumber \\\\\n",
    "\\end{align*}\n",
    "$$"
   ]
  },
  {
   "cell_type": "markdown",
   "metadata": {},
   "source": [
    "from which we obtain the log-likelihood"
   ]
  },
  {
   "cell_type": "markdown",
   "metadata": {},
   "source": [
    "$$\n",
    "L = \\log(\\mathcal{L}) = \\sum_{i=1}^n \\left( t_i\\log{p(t_i=1|x_i,\\boldsymbol{w})} + (1-t_i)\\log\\left[1-p(t_i=1|x_i,\\boldsymbol{w}))\\right]\\right).\n",
    "$$"
   ]
  },
  {
   "cell_type": "markdown",
   "metadata": {},
   "source": [
    "The **cost/loss** function is then defined as the negative log-likelihood"
   ]
  },
  {
   "cell_type": "markdown",
   "metadata": {},
   "source": [
    "$$\n",
    "\\mathcal{C}(\\boldsymbol{w}) \\equiv -L = -\\sum_{i=1}^n \\left( t_i\\log{p(t_i=1|x_i,\\boldsymbol{w})} + (1-t_i)\\log\\left[1-p(t_i=1|x_i,\\boldsymbol{w}))\\right]\\right).\n",
    "$$"
   ]
  },
  {
   "cell_type": "markdown",
   "metadata": {},
   "source": [
    "### The cost function rewritten as cross entropy\n",
    "\n",
    "Using the definitions of the probabilities we can rewrite the **cost/loss** function as"
   ]
  },
  {
   "cell_type": "markdown",
   "metadata": {},
   "source": [
    "$$\n",
    "\\mathcal{C}(\\boldsymbol{w}) = -\\sum_{i=1}^n \\left( t_i\\log{ y(x_i,\\boldsymbol{w})} + (1-t_i)\\log\\left[ 1-y( x_i,\\boldsymbol{w}) \\right] \\right),\n",
    "$$"
   ]
  },
  {
   "cell_type": "markdown",
   "metadata": {},
   "source": [
    "which can be recognised as the relative entripy between the empirical probability distribution $(t_i, 1-t_i)$ and the probability distribution predicted by the classifier $(y_i, 1-y_i)$.\n",
    "Therefore, this cost function is known in statistics as the **cross entropy**. \n",
    "\n",
    "Using specifically the Sigmoid activation function with two weights, and reordering the logarithms, we can rewrite the **cost/loss** function as"
   ]
  },
  {
   "cell_type": "markdown",
   "metadata": {},
   "source": [
    "$$\n",
    "\\mathcal{C}(\\boldsymbol{w}) = \\sum_{i=1}^n  \\left[ t_i(w_0+w_1 x_i) -\\log{(1+\\exp{(w_0+w_1x_i)})} \\right].\n",
    "$$"
   ]
  },
  {
   "cell_type": "markdown",
   "metadata": {},
   "source": [
    "The maximum likelihood estimator is defined as the set of parameters (weights) that maximizes the log-likelihood (where we maximize with respect to $w$).\n",
    "\n",
    "Since the cost (error) function is here defined as the negative log-likelihood, for logistic regression, we have that"
   ]
  },
  {
   "cell_type": "markdown",
   "metadata": {},
   "source": [
    "$$\n",
    "\\mathcal{C}(\\boldsymbol{w})=-\\sum_{i=1}^n  \\left[ y_i (w_0+w_1x_i) -\\log{ \\left( 1+\\exp{(w_0+w_1x_i)} \\right) } \\right].\n",
    "$$"
   ]
  },
  {
   "cell_type": "markdown",
   "metadata": {},
   "source": [
    "### Regularization\n",
    "\n",
    "In practice, just as for linear regression, one often supplements the cross-entropy cost function with additional regularization terms, usually $L_1$ and $L_2$ regularization. This introduces hyperparameters into the classifier.\n",
    "\n",
    "In particular, Lasso regularization is obtained by defining another cost function"
   ]
  },
  {
   "cell_type": "markdown",
   "metadata": {},
   "source": [
    "$$\n",
    "\\mathcal{C}_W (\\boldsymbol{w}) \\equiv \\mathcal{C} (\\boldsymbol{w}) + \\alpha E_W (\\boldsymbol{w})\n",
    "$$"
   ]
  },
  {
   "cell_type": "markdown",
   "metadata": {},
   "source": [
    "where $E_W (\\boldsymbol{w}) = \\frac{1}{2} \\sum_i w_i^2$ and $\\alpha$ is known as the *weight decay*.\n",
    "\n",
    "**Question.**\n",
    "\n",
    "Can you motivate why $\\alpha$ is known as the weight decay? *Hint*: Recall the origin of this regularizer from a Bayesian perspective.\n",
    "\n",
    "\n",
    "\n",
    "\n",
    "### Minimizing the cross entropy\n",
    "\n",
    "The cross entropy is a convex function of the weights $\\boldsymbol{w}$ and,\n",
    "therefore, any local minimizer is a global minimizer. \n",
    "\n",
    "\n",
    "Minimizing this cost function (here without regularization term) with respect to the two parameters $w_0$ and $w_1$ we obtain"
   ]
  },
  {
   "cell_type": "markdown",
   "metadata": {},
   "source": [
    "$$\n",
    "\\frac{\\partial \\mathcal{C}(\\boldsymbol{w})}{\\partial w_0} = -\\sum_{i=1}^n  \\left(t_i -\\frac{\\exp{(w_0+w_1x_i)}}{1+\\exp{(w_0+w_1x_i)}}\\right),\n",
    "$$"
   ]
  },
  {
   "cell_type": "markdown",
   "metadata": {},
   "source": [
    "and"
   ]
  },
  {
   "cell_type": "markdown",
   "metadata": {},
   "source": [
    "$$\n",
    "\\frac{\\partial \\mathcal{C}(\\boldsymbol{w})}{\\partial w_1} = -\\sum_{i=1}^n  \\left(t_i x_i -x_i\\frac{\\exp{(w_0+w_1x_i)}}{1+\\exp{(w_0+w_1x_i)}}\\right).\n",
    "$$"
   ]
  },
  {
   "cell_type": "markdown",
   "metadata": {},
   "source": [
    "### A more compact expression\n",
    "\n",
    "Let us now define a vector $\\boldsymbol{t}$ with $n$ elements $t_i$, an\n",
    "$n\\times 2$ matrix $\\boldsymbol{X}$ which contains the $(1, x_i)$ predictor variables, and a\n",
    "vector $\\boldsymbol{y}$ of fitted probabilities $y_i = p(t_i = 1 \\vert x_i,\\boldsymbol{w})$. We can then rewrite the first\n",
    "derivative of cost function in matrix form"
   ]
  },
  {
   "cell_type": "markdown",
   "metadata": {},
   "source": [
    "$$\n",
    "\\frac{\\partial \\mathcal{C}(\\boldsymbol{w})}{\\partial \\boldsymbol{w}} = -\\boldsymbol{X}^T\\left( \\boldsymbol{t}-\\boldsymbol{y} \\right).\n",
    "$$"
   ]
  },
  {
   "cell_type": "markdown",
   "metadata": {},
   "source": [
    "If we in addition define a diagonal matrix $\\boldsymbol{W}$ with elements \n",
    "$W_{ii} = p(t_i = 1 \\vert x_i,\\boldsymbol{w}) (1-p(t_i=1\\vert x_i,\\boldsymbol{w})$, we can obtain a compact expression of the second derivative as"
   ]
  },
  {
   "cell_type": "markdown",
   "metadata": {},
   "source": [
    "$$\n",
    "\\frac{\\partial^2 \\mathcal{C}(\\boldsymbol{w})}{\\partial \\boldsymbol{w}\\partial \\boldsymbol{w}^T} = \\boldsymbol{X}^T\\boldsymbol{W}\\boldsymbol{X}.\n",
    "$$"
   ]
  },
  {
   "cell_type": "markdown",
   "metadata": {},
   "source": [
    "### A learning algorithm\n",
    "\n",
    "**Notice.**\n",
    "\n",
    "Having access to the first derivative we can define an *on-line learning rule* as follows:\n",
    "* For each input $i$, compute the error $e_i = t_i - y_i$.\n",
    "\n",
    "* Adjust the weights in a direction that would reduce this error: $\\Delta w_j = \\eta e_i x_{j,i}$.\n",
    "\n",
    "* The parameter $\\eta$ is called the *learning rate*.\n",
    "\n",
    "This learning algorithm is a variant of *stochastic learning*.\n",
    "\n",
    "\n",
    "\n",
    "Alternatively, one can perform *batch learning* for which multiple instances are combined into a batch, and the weights are adjusted following the matrix expression stated above. One can then repeat the training multiple times where each iteration consists of a *forward pass* (computing the outputs $\\boldsymbol{y}$ given a set of weights $\\boldsymbol{w}$) and *back-propagation* in which the gradient is computed and the weights are adjusted. At the end, one hopes to have reached an optimal set of weights.\n",
    "\n",
    "### Extending to more predictors\n",
    "\n",
    "Within a binary classification problem, we can easily expand our model to include multiple predictors. Our activation function is then (with $p$ predictors)"
   ]
  },
  {
   "cell_type": "markdown",
   "metadata": {},
   "source": [
    "$$\n",
    "a( \\boldsymbol{x}_i, \\boldsymbol{w} ) = w_0 + w_1 x_{1,i} + w_2 x_{2,i} + \\dots + w_p x_{p,i}.\n",
    "$$"
   ]
  },
  {
   "cell_type": "markdown",
   "metadata": {},
   "source": [
    "Defining $\\boldsymbol{x}_i \\equiv [1,x_{1,i}, x_{2,i}, \\dots, x_{p,i}]$ and $\\boldsymbol{w}=[w_0, w_1, \\dots, w_p]$ we get"
   ]
  },
  {
   "cell_type": "markdown",
   "metadata": {},
   "source": [
    "$$\n",
    "p(t_i=1 | \\boldsymbol{w}, \\boldsymbol{x}_i) = \\frac{ \\exp{ \\left( \\boldsymbol{w} \\cdot \\boldsymbol{x}_i \\right) }}{ 1 + \\exp{ \\left( \\boldsymbol{w} \\cdot \\boldsymbol{x}_i \\right) } }.\n",
    "$$"
   ]
  },
  {
   "cell_type": "markdown",
   "metadata": {},
   "source": [
    "## Including more classes\n",
    "\n",
    "Till now we have mainly focused on two classes, the so-called binary\n",
    "system. Suppose we wish to extend to $K$ classes.  We will then need to have $K-1$ outputs $\\boldsymbol{y}_i = \\{ y_{1,i}, y_{2,i}, \\ldots, y_{K-1,i} \\}$. \n",
    "\n",
    "**Question.**\n",
    "\n",
    "Why do we need only $K-1$ outputs if there are $K$ classes?\n",
    "\n",
    "\n",
    "\n",
    "Let us for the sake of simplicity assume we have only two predictors. The activation functions for the outputs are (suppressing the index $i$)"
   ]
  },
  {
   "cell_type": "markdown",
   "metadata": {},
   "source": [
    "$$\n",
    "a_1 = w_{1,0}+w_{1,1}x_1,\n",
    "$$"
   ]
  },
  {
   "cell_type": "markdown",
   "metadata": {},
   "source": [
    "$$\n",
    "a_2 = w_{2,0}+w_{2,1}x_1,\n",
    "$$"
   ]
  },
  {
   "cell_type": "markdown",
   "metadata": {},
   "source": [
    "and so on until the class $C=K-1$ class"
   ]
  },
  {
   "cell_type": "markdown",
   "metadata": {},
   "source": [
    "$$\n",
    "a_{K-1} = w_{(K-1),0}+w_{(K-1),1}x_1,\n",
    "$$"
   ]
  },
  {
   "cell_type": "markdown",
   "metadata": {},
   "source": [
    "and the model is specified in term of $K-1$ so-called log-odds or **logit** transformations $y_j = y(a_j)$.\n",
    "\n",
    "\n",
    "### Class probabilities: The Softmax function\n",
    "\n",
    "The transformation of the multiple outputs, as described above, to probabilities for belonging to any of $K$ different classes is done via the so-called **Softmax** function.\n",
    "\n",
    "The Softmax function is used in various multiclass classification\n",
    "methods, such as multinomial logistic regression (also known as\n",
    "softmax regression), multiclass linear discriminant analysis, naive\n",
    "Bayes classifiers, and artificial neural networks.  Specifically, the predicted probability for the $k$-th class given a sample\n",
    "vector $\\boldsymbol{x}_i$ and a weighting vector $\\boldsymbol{w}$ is (with two\n",
    "predictors):"
   ]
  },
  {
   "cell_type": "markdown",
   "metadata": {},
   "source": [
    "$$\n",
    "p(t_i=k\\vert \\boldsymbol{x}_i,  \\boldsymbol{w} ) = \\frac{\\exp{(w_{k,0}+w_{k,1}x_{1,i})}} {1+\\sum_{l=1}^{K-1}\\exp{(w_{l,0}+w_{l,1}x_{1,i})}}.\n",
    "$$"
   ]
  },
  {
   "cell_type": "markdown",
   "metadata": {},
   "source": [
    "It is easy to extend to more predictors. The probability for the final class is"
   ]
  },
  {
   "cell_type": "markdown",
   "metadata": {},
   "source": [
    "$$\n",
    "p(t_i=K\\vert \\boldsymbol{x}_i,  \\boldsymbol{w} ) = \\frac{1} {1+\\sum_{l=1}^{K-1}\\exp{(w_{l,0}+w_{l,1}x_{1,i})}},\n",
    "$$"
   ]
  },
  {
   "cell_type": "markdown",
   "metadata": {},
   "source": [
    "which means that the discrete set of probabilities is properly normalized. \n",
    "\n",
    "Our earlier discussions were all specialized to\n",
    "the case with two classes only. It is easy to see from the above that\n",
    "what we derived earlier is compatible with these equations."
   ]
  }
 ],
 "metadata": {},
 "nbformat": 4,
 "nbformat_minor": 2
}
